{
 "cells": [
  {
   "cell_type": "markdown",
   "id": "0939aba3",
   "metadata": {},
   "source": [
    "\n",
    "# Tech Challenge — Fase 1\n",
    "**Tema:** Classificação de Doença Cardíaca (Cleveland Dataset)\n",
    "\n",
    "> _“Se o pronto atendimento está cheio, qual paciente eu devo priorizar para avaliação cardiológica?”_  \n",
    "Este notebook é a primeira versão de um **sistema de apoio à triagem**. A ideia é usar **Machine Learning** para estimar, com base em poucos dados clínicos, a probabilidade de **doença cardíaca** (0/1). Não substitui médico — apenas **ganho de velocidade** na triagem.\n",
    "\n",
    "## Roteiro\n",
    "1. Conhecer minimamente os dados;\n",
    "2. Preparar as variáveis sem “vazamento” de informação;\n",
    "3. Treinar / comparar modelos clássicos (LR, KNN, DT);\n",
    "4. Avaliar corretamente (treino/validação/teste);\n",
    "5. Interpretar decisões (coeficientes/SHAP);\n",
    "6. Exportar o modelo final e comentar a API.\n"
   ]
  },
  {
   "cell_type": "markdown",
   "id": "720368ae",
   "metadata": {},
   "source": [
    "\n",
    "## 1. Preparação do ambiente\n",
    "\n",
    "Requisitos: `pandas`, `numpy`, `scikit-learn`, visualização (`matplotlib`/`seaborn`) e **SHAP** para interpretabilidade.\n"
   ]
  },
  {
   "cell_type": "code",
   "execution_count": 1,
   "id": "e4afcc37",
   "metadata": {
    "execution": {
     "iopub.execute_input": "2025-08-09T03:19:54.580237Z",
     "iopub.status.busy": "2025-08-09T03:19:54.580086Z",
     "iopub.status.idle": "2025-08-09T03:20:08.315303Z",
     "shell.execute_reply": "2025-08-09T03:20:08.314957Z"
    }
   },
   "outputs": [],
   "source": [
    "import numpy as np\n",
    "import pandas as pd\n",
    "import matplotlib.pyplot as plt\n",
    "import seaborn as sns\n",
    "import joblib\n",
    "import shap\n",
    "\n",
    "from sklearn.model_selection import train_test_split, StratifiedKFold, cross_val_score\n",
    "from sklearn.preprocessing import StandardScaler\n",
    "from sklearn.pipeline import Pipeline\n",
    "from sklearn.linear_model import LogisticRegression\n",
    "from sklearn.neighbors import KNeighborsClassifier\n",
    "from sklearn.tree import DecisionTreeClassifier\n",
    "from sklearn.metrics import (\n",
    "    classification_report, confusion_matrix, ConfusionMatrixDisplay,\n",
    "    accuracy_score, recall_score, f1_score\n",
    ")\n",
    "\n",
    "import kagglehub\n",
    "np.random.seed(42)\n"
   ]
  },
  {
   "cell_type": "markdown",
   "id": "5d282238",
   "metadata": {},
   "source": [
    "\n",
    "## 2. Dados (Cleveland — Kaggle/UCI)\n",
    "\n",
    "Usaremos o dataset público **Cleveland Heart Disease**.  \n",
    "O alvo é `condition` (0 = sem doença, 1 = com doença). Para manter compatibilidade com a nossa API, focaremos em **cinco variáveis**: `thal`, `ca`, `oldpeak`, `exang`, `cp`.\n",
    "\n",
    "Vamos carregar e dar uma olhada rápida.\n"
   ]
  },
  {
   "cell_type": "code",
   "execution_count": 2,
   "id": "e9276a58",
   "metadata": {
    "execution": {
     "iopub.execute_input": "2025-08-09T03:20:08.318803Z",
     "iopub.status.busy": "2025-08-09T03:20:08.318417Z",
     "iopub.status.idle": "2025-08-09T03:20:08.786734Z",
     "shell.execute_reply": "2025-08-09T03:20:08.786462Z"
    }
   },
   "outputs": [
    {
     "name": "stdout",
     "output_type": "stream",
     "text": [
      "Shape: (297, 14)\n"
     ]
    },
    {
     "data": {
      "text/html": [
       "<div>\n",
       "<style scoped>\n",
       "    .dataframe tbody tr th:only-of-type {\n",
       "        vertical-align: middle;\n",
       "    }\n",
       "\n",
       "    .dataframe tbody tr th {\n",
       "        vertical-align: top;\n",
       "    }\n",
       "\n",
       "    .dataframe thead th {\n",
       "        text-align: right;\n",
       "    }\n",
       "</style>\n",
       "<table border=\"1\" class=\"dataframe\">\n",
       "  <thead>\n",
       "    <tr style=\"text-align: right;\">\n",
       "      <th></th>\n",
       "      <th>age</th>\n",
       "      <th>sex</th>\n",
       "      <th>cp</th>\n",
       "      <th>trestbps</th>\n",
       "      <th>chol</th>\n",
       "      <th>fbs</th>\n",
       "      <th>restecg</th>\n",
       "      <th>thalach</th>\n",
       "      <th>exang</th>\n",
       "      <th>oldpeak</th>\n",
       "      <th>slope</th>\n",
       "      <th>ca</th>\n",
       "      <th>thal</th>\n",
       "      <th>condition</th>\n",
       "    </tr>\n",
       "  </thead>\n",
       "  <tbody>\n",
       "    <tr>\n",
       "      <th>0</th>\n",
       "      <td>69</td>\n",
       "      <td>1</td>\n",
       "      <td>0</td>\n",
       "      <td>160</td>\n",
       "      <td>234</td>\n",
       "      <td>1</td>\n",
       "      <td>2</td>\n",
       "      <td>131</td>\n",
       "      <td>0</td>\n",
       "      <td>0.1</td>\n",
       "      <td>1</td>\n",
       "      <td>1</td>\n",
       "      <td>0</td>\n",
       "      <td>0</td>\n",
       "    </tr>\n",
       "    <tr>\n",
       "      <th>1</th>\n",
       "      <td>69</td>\n",
       "      <td>0</td>\n",
       "      <td>0</td>\n",
       "      <td>140</td>\n",
       "      <td>239</td>\n",
       "      <td>0</td>\n",
       "      <td>0</td>\n",
       "      <td>151</td>\n",
       "      <td>0</td>\n",
       "      <td>1.8</td>\n",
       "      <td>0</td>\n",
       "      <td>2</td>\n",
       "      <td>0</td>\n",
       "      <td>0</td>\n",
       "    </tr>\n",
       "    <tr>\n",
       "      <th>2</th>\n",
       "      <td>66</td>\n",
       "      <td>0</td>\n",
       "      <td>0</td>\n",
       "      <td>150</td>\n",
       "      <td>226</td>\n",
       "      <td>0</td>\n",
       "      <td>0</td>\n",
       "      <td>114</td>\n",
       "      <td>0</td>\n",
       "      <td>2.6</td>\n",
       "      <td>2</td>\n",
       "      <td>0</td>\n",
       "      <td>0</td>\n",
       "      <td>0</td>\n",
       "    </tr>\n",
       "    <tr>\n",
       "      <th>3</th>\n",
       "      <td>65</td>\n",
       "      <td>1</td>\n",
       "      <td>0</td>\n",
       "      <td>138</td>\n",
       "      <td>282</td>\n",
       "      <td>1</td>\n",
       "      <td>2</td>\n",
       "      <td>174</td>\n",
       "      <td>0</td>\n",
       "      <td>1.4</td>\n",
       "      <td>1</td>\n",
       "      <td>1</td>\n",
       "      <td>0</td>\n",
       "      <td>1</td>\n",
       "    </tr>\n",
       "    <tr>\n",
       "      <th>4</th>\n",
       "      <td>64</td>\n",
       "      <td>1</td>\n",
       "      <td>0</td>\n",
       "      <td>110</td>\n",
       "      <td>211</td>\n",
       "      <td>0</td>\n",
       "      <td>2</td>\n",
       "      <td>144</td>\n",
       "      <td>1</td>\n",
       "      <td>1.8</td>\n",
       "      <td>1</td>\n",
       "      <td>0</td>\n",
       "      <td>0</td>\n",
       "      <td>0</td>\n",
       "    </tr>\n",
       "  </tbody>\n",
       "</table>\n",
       "</div>"
      ],
      "text/plain": [
       "   age  sex  cp  trestbps  chol  fbs  restecg  thalach  exang  oldpeak  slope  \\\n",
       "0   69    1   0       160   234    1        2      131      0      0.1      1   \n",
       "1   69    0   0       140   239    0        0      151      0      1.8      0   \n",
       "2   66    0   0       150   226    0        0      114      0      2.6      2   \n",
       "3   65    1   0       138   282    1        2      174      0      1.4      1   \n",
       "4   64    1   0       110   211    0        2      144      1      1.8      1   \n",
       "\n",
       "   ca  thal  condition  \n",
       "0   1     0          0  \n",
       "1   2     0          0  \n",
       "2   0     0          0  \n",
       "3   1     0          1  \n",
       "4   0     0          0  "
      ]
     },
     "execution_count": 2,
     "metadata": {},
     "output_type": "execute_result"
    }
   ],
   "source": [
    "\n",
    "path = kagglehub.dataset_download(\"cherngs/heart-disease-cleveland-uci\")\n",
    "csv_path = f\"{path}/heart_cleveland_upload.csv\"\n",
    "df = pd.read_csv(csv_path)\n",
    "\n",
    "print(\"Shape:\", df.shape)\n",
    "df.head()\n"
   ]
  },
  {
   "cell_type": "markdown",
   "id": "18cd9bc9",
   "metadata": {},
   "source": [
    "\n",
    "## 3. EDA rápida (Análise Exploratória de Dados)\n",
    "\n",
    "Vamos verificar a distribuição da variável alvo, identificar possíveis valores ausentes e observar as correlações mais relevantes. O objetivo é ter uma visão clara do conjunto de dados para guiar as próximas etapas, sem entrar em uma análise exploratória extensa.\n"
   ]
  },
  {
   "cell_type": "code",
   "execution_count": 3,
   "id": "28966d8a",
   "metadata": {
    "execution": {
     "iopub.execute_input": "2025-08-09T03:20:08.788706Z",
     "iopub.status.busy": "2025-08-09T03:20:08.788598Z",
     "iopub.status.idle": "2025-08-09T03:20:09.203310Z",
     "shell.execute_reply": "2025-08-09T03:20:09.203008Z"
    }
   },
   "outputs": [
    {
     "data": {
      "text/html": [
       "<div>\n",
       "<style scoped>\n",
       "    .dataframe tbody tr th:only-of-type {\n",
       "        vertical-align: middle;\n",
       "    }\n",
       "\n",
       "    .dataframe tbody tr th {\n",
       "        vertical-align: top;\n",
       "    }\n",
       "\n",
       "    .dataframe thead th {\n",
       "        text-align: right;\n",
       "    }\n",
       "</style>\n",
       "<table border=\"1\" class=\"dataframe\">\n",
       "  <thead>\n",
       "    <tr style=\"text-align: right;\">\n",
       "      <th></th>\n",
       "      <th>age</th>\n",
       "      <th>sex</th>\n",
       "      <th>cp</th>\n",
       "      <th>trestbps</th>\n",
       "      <th>chol</th>\n",
       "      <th>fbs</th>\n",
       "      <th>restecg</th>\n",
       "      <th>thalach</th>\n",
       "      <th>exang</th>\n",
       "      <th>oldpeak</th>\n",
       "      <th>slope</th>\n",
       "      <th>ca</th>\n",
       "      <th>thal</th>\n",
       "      <th>condition</th>\n",
       "    </tr>\n",
       "  </thead>\n",
       "  <tbody>\n",
       "    <tr>\n",
       "      <th>count</th>\n",
       "      <td>297.000000</td>\n",
       "      <td>297.000000</td>\n",
       "      <td>297.000000</td>\n",
       "      <td>297.000000</td>\n",
       "      <td>297.000000</td>\n",
       "      <td>297.000000</td>\n",
       "      <td>297.000000</td>\n",
       "      <td>297.000000</td>\n",
       "      <td>297.000000</td>\n",
       "      <td>297.000000</td>\n",
       "      <td>297.000000</td>\n",
       "      <td>297.000000</td>\n",
       "      <td>297.000000</td>\n",
       "      <td>297.000000</td>\n",
       "    </tr>\n",
       "    <tr>\n",
       "      <th>mean</th>\n",
       "      <td>54.542088</td>\n",
       "      <td>0.676768</td>\n",
       "      <td>2.158249</td>\n",
       "      <td>131.693603</td>\n",
       "      <td>247.350168</td>\n",
       "      <td>0.144781</td>\n",
       "      <td>0.996633</td>\n",
       "      <td>149.599327</td>\n",
       "      <td>0.326599</td>\n",
       "      <td>1.055556</td>\n",
       "      <td>0.602694</td>\n",
       "      <td>0.676768</td>\n",
       "      <td>0.835017</td>\n",
       "      <td>0.461279</td>\n",
       "    </tr>\n",
       "    <tr>\n",
       "      <th>std</th>\n",
       "      <td>9.049736</td>\n",
       "      <td>0.468500</td>\n",
       "      <td>0.964859</td>\n",
       "      <td>17.762806</td>\n",
       "      <td>51.997583</td>\n",
       "      <td>0.352474</td>\n",
       "      <td>0.994914</td>\n",
       "      <td>22.941562</td>\n",
       "      <td>0.469761</td>\n",
       "      <td>1.166123</td>\n",
       "      <td>0.618187</td>\n",
       "      <td>0.938965</td>\n",
       "      <td>0.956690</td>\n",
       "      <td>0.499340</td>\n",
       "    </tr>\n",
       "    <tr>\n",
       "      <th>min</th>\n",
       "      <td>29.000000</td>\n",
       "      <td>0.000000</td>\n",
       "      <td>0.000000</td>\n",
       "      <td>94.000000</td>\n",
       "      <td>126.000000</td>\n",
       "      <td>0.000000</td>\n",
       "      <td>0.000000</td>\n",
       "      <td>71.000000</td>\n",
       "      <td>0.000000</td>\n",
       "      <td>0.000000</td>\n",
       "      <td>0.000000</td>\n",
       "      <td>0.000000</td>\n",
       "      <td>0.000000</td>\n",
       "      <td>0.000000</td>\n",
       "    </tr>\n",
       "    <tr>\n",
       "      <th>25%</th>\n",
       "      <td>48.000000</td>\n",
       "      <td>0.000000</td>\n",
       "      <td>2.000000</td>\n",
       "      <td>120.000000</td>\n",
       "      <td>211.000000</td>\n",
       "      <td>0.000000</td>\n",
       "      <td>0.000000</td>\n",
       "      <td>133.000000</td>\n",
       "      <td>0.000000</td>\n",
       "      <td>0.000000</td>\n",
       "      <td>0.000000</td>\n",
       "      <td>0.000000</td>\n",
       "      <td>0.000000</td>\n",
       "      <td>0.000000</td>\n",
       "    </tr>\n",
       "    <tr>\n",
       "      <th>50%</th>\n",
       "      <td>56.000000</td>\n",
       "      <td>1.000000</td>\n",
       "      <td>2.000000</td>\n",
       "      <td>130.000000</td>\n",
       "      <td>243.000000</td>\n",
       "      <td>0.000000</td>\n",
       "      <td>1.000000</td>\n",
       "      <td>153.000000</td>\n",
       "      <td>0.000000</td>\n",
       "      <td>0.800000</td>\n",
       "      <td>1.000000</td>\n",
       "      <td>0.000000</td>\n",
       "      <td>0.000000</td>\n",
       "      <td>0.000000</td>\n",
       "    </tr>\n",
       "    <tr>\n",
       "      <th>75%</th>\n",
       "      <td>61.000000</td>\n",
       "      <td>1.000000</td>\n",
       "      <td>3.000000</td>\n",
       "      <td>140.000000</td>\n",
       "      <td>276.000000</td>\n",
       "      <td>0.000000</td>\n",
       "      <td>2.000000</td>\n",
       "      <td>166.000000</td>\n",
       "      <td>1.000000</td>\n",
       "      <td>1.600000</td>\n",
       "      <td>1.000000</td>\n",
       "      <td>1.000000</td>\n",
       "      <td>2.000000</td>\n",
       "      <td>1.000000</td>\n",
       "    </tr>\n",
       "    <tr>\n",
       "      <th>max</th>\n",
       "      <td>77.000000</td>\n",
       "      <td>1.000000</td>\n",
       "      <td>3.000000</td>\n",
       "      <td>200.000000</td>\n",
       "      <td>564.000000</td>\n",
       "      <td>1.000000</td>\n",
       "      <td>2.000000</td>\n",
       "      <td>202.000000</td>\n",
       "      <td>1.000000</td>\n",
       "      <td>6.200000</td>\n",
       "      <td>2.000000</td>\n",
       "      <td>3.000000</td>\n",
       "      <td>2.000000</td>\n",
       "      <td>1.000000</td>\n",
       "    </tr>\n",
       "  </tbody>\n",
       "</table>\n",
       "</div>"
      ],
      "text/plain": [
       "              age         sex          cp    trestbps        chol         fbs  \\\n",
       "count  297.000000  297.000000  297.000000  297.000000  297.000000  297.000000   \n",
       "mean    54.542088    0.676768    2.158249  131.693603  247.350168    0.144781   \n",
       "std      9.049736    0.468500    0.964859   17.762806   51.997583    0.352474   \n",
       "min     29.000000    0.000000    0.000000   94.000000  126.000000    0.000000   \n",
       "25%     48.000000    0.000000    2.000000  120.000000  211.000000    0.000000   \n",
       "50%     56.000000    1.000000    2.000000  130.000000  243.000000    0.000000   \n",
       "75%     61.000000    1.000000    3.000000  140.000000  276.000000    0.000000   \n",
       "max     77.000000    1.000000    3.000000  200.000000  564.000000    1.000000   \n",
       "\n",
       "          restecg     thalach       exang     oldpeak       slope          ca  \\\n",
       "count  297.000000  297.000000  297.000000  297.000000  297.000000  297.000000   \n",
       "mean     0.996633  149.599327    0.326599    1.055556    0.602694    0.676768   \n",
       "std      0.994914   22.941562    0.469761    1.166123    0.618187    0.938965   \n",
       "min      0.000000   71.000000    0.000000    0.000000    0.000000    0.000000   \n",
       "25%      0.000000  133.000000    0.000000    0.000000    0.000000    0.000000   \n",
       "50%      1.000000  153.000000    0.000000    0.800000    1.000000    0.000000   \n",
       "75%      2.000000  166.000000    1.000000    1.600000    1.000000    1.000000   \n",
       "max      2.000000  202.000000    1.000000    6.200000    2.000000    3.000000   \n",
       "\n",
       "             thal   condition  \n",
       "count  297.000000  297.000000  \n",
       "mean     0.835017    0.461279  \n",
       "std      0.956690    0.499340  \n",
       "min      0.000000    0.000000  \n",
       "25%      0.000000    0.000000  \n",
       "50%      0.000000    0.000000  \n",
       "75%      2.000000    1.000000  \n",
       "max      2.000000    1.000000  "
      ]
     },
     "metadata": {},
     "output_type": "display_data"
    },
    {
     "name": "stdout",
     "output_type": "stream",
     "text": [
      "\n",
      "Valores nulos por coluna:\n",
      "age          0\n",
      "sex          0\n",
      "cp           0\n",
      "trestbps     0\n",
      "chol         0\n",
      "fbs          0\n",
      "restecg      0\n",
      "thalach      0\n",
      "exang        0\n",
      "oldpeak      0\n",
      "slope        0\n",
      "ca           0\n",
      "thal         0\n",
      "condition    0\n",
      "dtype: int64\n"
     ]
    },
    {
     "data": {
      "image/png": "[encoded data removed]",
      "text/plain": [
       "<Figure size 640x480 with 1 Axes>"
      ]
     },
     "metadata": {},
     "output_type": "display_data"
    },
    {
     "data": {
      "image/png": "[encoded data removed]",
      "text/plain": [
       "<Figure size 1000x700 with 2 Axes>"
      ]
     },
     "metadata": {},
     "output_type": "display_data"
    }
   ],
   "source": [
    "\n",
    "display(df.describe())\n",
    "print(\"\\nValores nulos por coluna:\")\n",
    "print(df.isnull().sum())\n",
    "\n",
    "sns.countplot(data=df, x='condition')\n",
    "plt.title('Distribuição: condition (0=sem doença, 1=com doença)')\n",
    "plt.show()\n",
    "\n",
    "plt.figure(figsize=(10,7))\n",
    "sns.heatmap(df.corr(numeric_only=True), cmap='coolwarm')\n",
    "plt.title('Correlação entre variáveis numéricas')\n",
    "plt.show()\n"
   ]
  },
  {
   "cell_type": "markdown",
   "id": "e05c5904",
   "metadata": {},
   "source": [
    "\n",
    "## 4. Pré-processamento\n",
    "\n",
    "Decisões:\n",
    "- **Filtro etário 40–70**: reduz extremos que podem distorcer métricas;\n",
    "- **Features**: `['thal','ca','oldpeak','exang','cp']` (compatível com a API);\n",
    "- **Scaler dentro do Pipeline**: evita vazamento na validação cruzada.\n"
   ]
  },
  {
   "cell_type": "code",
   "execution_count": 4,
   "id": "00092365",
   "metadata": {
    "execution": {
     "iopub.execute_input": "2025-08-09T03:20:09.204747Z",
     "iopub.status.busy": "2025-08-09T03:20:09.204630Z",
     "iopub.status.idle": "2025-08-09T03:20:09.209552Z",
     "shell.execute_reply": "2025-08-09T03:20:09.209277Z"
    }
   },
   "outputs": [
    {
     "data": {
      "text/plain": [
       "((277, 5), (277,))"
      ]
     },
     "execution_count": 4,
     "metadata": {},
     "output_type": "execute_result"
    }
   ],
   "source": [
    "\n",
    "df_filt = df[(df['age'] >= 40) & (df['age'] <= 70)].copy()\n",
    "\n",
    "FEATURES = ['thal','ca','oldpeak','exang','cp']\n",
    "TARGET = 'condition'\n",
    "\n",
    "X = df_filt[FEATURES]\n",
    "y = df_filt[TARGET]\n",
    "\n",
    "X_train, X_test, y_train, y_test = train_test_split(\n",
    "    X, y, test_size=0.2, stratify=y, random_state=42\n",
    ")\n",
    "\n",
    "X.shape, y.shape\n"
   ]
  },
  {
   "cell_type": "markdown",
   "id": "807c0dfb",
   "metadata": {},
   "source": [
    "\n",
    "## 5. Modelagem\n",
    "\n",
    "Compararemos **Regressão Logística**, **KNN (k=5)** e **Árvore de Decisão**.  \n",
    "Métricas em **StratifiedKFold (k=5)**: `Accuracy`, `Recall` e `F1`.\n"
   ]
  },
  {
   "cell_type": "code",
   "execution_count": 5,
   "id": "010cf93e",
   "metadata": {
    "execution": {
     "iopub.execute_input": "2025-08-09T03:20:09.210828Z",
     "iopub.status.busy": "2025-08-09T03:20:09.210734Z",
     "iopub.status.idle": "2025-08-09T03:20:09.358770Z",
     "shell.execute_reply": "2025-08-09T03:20:09.358502Z"
    }
   },
   "outputs": [
    {
     "data": {
      "text/html": [
       "<div>\n",
       "<style scoped>\n",
       "    .dataframe tbody tr th:only-of-type {\n",
       "        vertical-align: middle;\n",
       "    }\n",
       "\n",
       "    .dataframe tbody tr th {\n",
       "        vertical-align: top;\n",
       "    }\n",
       "\n",
       "    .dataframe thead th {\n",
       "        text-align: right;\n",
       "    }\n",
       "</style>\n",
       "<table border=\"1\" class=\"dataframe\">\n",
       "  <thead>\n",
       "    <tr style=\"text-align: right;\">\n",
       "      <th></th>\n",
       "      <th>Modelo</th>\n",
       "      <th>Accuracy_CV</th>\n",
       "      <th>Recall_CV</th>\n",
       "      <th>F1_CV</th>\n",
       "    </tr>\n",
       "  </thead>\n",
       "  <tbody>\n",
       "    <tr>\n",
       "      <th>0</th>\n",
       "      <td>LogisticRegression</td>\n",
       "      <td>0.832727</td>\n",
       "      <td>0.800000</td>\n",
       "      <td>0.817624</td>\n",
       "    </tr>\n",
       "    <tr>\n",
       "      <th>1</th>\n",
       "      <td>KNN</td>\n",
       "      <td>0.809899</td>\n",
       "      <td>0.742857</td>\n",
       "      <td>0.784490</td>\n",
       "    </tr>\n",
       "    <tr>\n",
       "      <th>2</th>\n",
       "      <td>DecisionTree</td>\n",
       "      <td>0.787374</td>\n",
       "      <td>0.752381</td>\n",
       "      <td>0.769993</td>\n",
       "    </tr>\n",
       "  </tbody>\n",
       "</table>\n",
       "</div>"
      ],
      "text/plain": [
       "               Modelo  Accuracy_CV  Recall_CV     F1_CV\n",
       "0  LogisticRegression     0.832727   0.800000  0.817624\n",
       "1                 KNN     0.809899   0.742857  0.784490\n",
       "2        DecisionTree     0.787374   0.752381  0.769993"
      ]
     },
     "execution_count": 5,
     "metadata": {},
     "output_type": "execute_result"
    }
   ],
   "source": [
    "\n",
    "models = {\n",
    "    \"LogisticRegression\": Pipeline([(\"scaler\", StandardScaler()),\n",
    "                                    (\"clf\", LogisticRegression(max_iter=1000))]),\n",
    "    \"KNN\": Pipeline([(\"scaler\", StandardScaler()),\n",
    "                     (\"clf\", KNeighborsClassifier(n_neighbors=5))]),\n",
    "    \"DecisionTree\": Pipeline([(\"clf\", DecisionTreeClassifier(random_state=42))])\n",
    "}\n",
    "\n",
    "cv = StratifiedKFold(n_splits=5, shuffle=True, random_state=42)\n",
    "\n",
    "rows = []\n",
    "for name, model in models.items():\n",
    "    acc = cross_val_score(model, X_train, y_train, cv=cv, scoring=\"accuracy\").mean()\n",
    "    rec = cross_val_score(model, X_train, y_train, cv=cv, scoring=\"recall\").mean()\n",
    "    f1s = cross_val_score(model, X_train, y_train, cv=cv, scoring=\"f1\").mean()\n",
    "    rows.append((name, acc, rec, f1s))\n",
    "\n",
    "res_df = pd.DataFrame(rows, columns=[\"Modelo\",\"Accuracy_CV\",\"Recall_CV\",\"F1_CV\"]).sort_values(\"F1_CV\", ascending=False)\n",
    "res_df\n"
   ]
  },
  {
   "cell_type": "markdown",
   "id": "245808b6",
   "metadata": {},
   "source": [
    "\n",
    "## 6. Avaliação no conjunto de teste\n",
    "\n",
    "Escolhemos o melhor pela **F1 em cross-val**, treinamos no conjunto de treino **e só então** avaliamos no teste.\n"
   ]
  },
  {
   "cell_type": "code",
   "execution_count": 6,
   "id": "a966bc46",
   "metadata": {
    "execution": {
     "iopub.execute_input": "2025-08-09T03:20:09.360110Z",
     "iopub.status.busy": "2025-08-09T03:20:09.360016Z",
     "iopub.status.idle": "2025-08-09T03:20:09.419729Z",
     "shell.execute_reply": "2025-08-09T03:20:09.419442Z"
    }
   },
   "outputs": [
    {
     "name": "stdout",
     "output_type": "stream",
     "text": [
      "Melhor modelo (CV): LogisticRegression\n",
      "Accuracy: 0.7678571428571429\n",
      "Recall: 0.6666666666666666\n",
      "F1: 0.7346938775510204\n",
      "\n",
      "Classification Report:\n",
      "               precision    recall  f1-score   support\n",
      "\n",
      "           0       0.74      0.86      0.79        29\n",
      "           1       0.82      0.67      0.73        27\n",
      "\n",
      "    accuracy                           0.77        56\n",
      "   macro avg       0.78      0.76      0.76        56\n",
      "weighted avg       0.78      0.77      0.77        56\n",
      "\n"
     ]
    },
    {
     "data": {
      "image/png": "[encoded data removed]",
      "text/plain": [
       "<Figure size 640x480 with 2 Axes>"
      ]
     },
     "metadata": {},
     "output_type": "display_data"
    }
   ],
   "source": [
    "\n",
    "best_name = res_df.iloc[0][\"Modelo\"]\n",
    "best_model = models[best_name]\n",
    "best_model.fit(X_train, y_train)\n",
    "\n",
    "y_pred = best_model.predict(X_test)\n",
    "\n",
    "print(\"Melhor modelo (CV):\", best_name)\n",
    "print(\"Accuracy:\", accuracy_score(y_test, y_pred))\n",
    "print(\"Recall:\", recall_score(y_test, y_pred))\n",
    "print(\"F1:\", f1_score(y_test, y_pred))\n",
    "print(\"\\nClassification Report:\\n\", classification_report(y_test, y_pred))\n",
    "\n",
    "cm = confusion_matrix(y_test, y_pred)\n",
    "ConfusionMatrixDisplay(cm).plot(cmap='Blues')\n",
    "plt.title(f\"Matriz de confusão — {best_name}\")\n",
    "plt.show()\n"
   ]
  },
  {
   "cell_type": "markdown",
   "id": "e708823f",
   "metadata": {},
   "source": [
    "\n",
    "## 7. Interpretação: o que o modelo está olhando?\n",
    "\n",
    "Se o melhor for **Regressão Logística**, olhamos coeficientes (sinal/magnitude).  \n",
    "Também usamos **SHAP** para uma visão global da contribuição de cada variável.\n"
   ]
  },
  {
   "cell_type": "code",
   "execution_count": 7,
   "id": "cb3426da",
   "metadata": {
    "execution": {
     "iopub.execute_input": "2025-08-09T03:20:09.421017Z",
     "iopub.status.busy": "2025-08-09T03:20:09.420913Z",
     "iopub.status.idle": "2025-08-09T03:20:09.494679Z",
     "shell.execute_reply": "2025-08-09T03:20:09.494416Z"
    }
   },
   "outputs": [
    {
     "data": {
      "text/html": [
       "<div>\n",
       "<style scoped>\n",
       "    .dataframe tbody tr th:only-of-type {\n",
       "        vertical-align: middle;\n",
       "    }\n",
       "\n",
       "    .dataframe tbody tr th {\n",
       "        vertical-align: top;\n",
       "    }\n",
       "\n",
       "    .dataframe thead th {\n",
       "        text-align: right;\n",
       "    }\n",
       "</style>\n",
       "<table border=\"1\" class=\"dataframe\">\n",
       "  <thead>\n",
       "    <tr style=\"text-align: right;\">\n",
       "      <th></th>\n",
       "      <th>Variável</th>\n",
       "      <th>Coeficiente</th>\n",
       "    </tr>\n",
       "  </thead>\n",
       "  <tbody>\n",
       "    <tr>\n",
       "      <th>1</th>\n",
       "      <td>ca</td>\n",
       "      <td>1.191918</td>\n",
       "    </tr>\n",
       "    <tr>\n",
       "      <th>0</th>\n",
       "      <td>thal</td>\n",
       "      <td>0.998904</td>\n",
       "    </tr>\n",
       "    <tr>\n",
       "      <th>2</th>\n",
       "      <td>oldpeak</td>\n",
       "      <td>0.664747</td>\n",
       "    </tr>\n",
       "    <tr>\n",
       "      <th>4</th>\n",
       "      <td>cp</td>\n",
       "      <td>0.544596</td>\n",
       "    </tr>\n",
       "    <tr>\n",
       "      <th>3</th>\n",
       "      <td>exang</td>\n",
       "      <td>0.347787</td>\n",
       "    </tr>\n",
       "  </tbody>\n",
       "</table>\n",
       "</div>"
      ],
      "text/plain": [
       "  Variável  Coeficiente\n",
       "1       ca     1.191918\n",
       "0     thal     0.998904\n",
       "2  oldpeak     0.664747\n",
       "4       cp     0.544596\n",
       "3    exang     0.347787"
      ]
     },
     "metadata": {},
     "output_type": "display_data"
    },
    {
     "data": {
      "image/png": "[encoded data removed]",
      "text/plain": [
       "<Figure size 800x350 with 2 Axes>"
      ]
     },
     "metadata": {},
     "output_type": "display_data"
    }
   ],
   "source": [
    "\n",
    "clf = best_model.named_steps.get(\"clf\", best_model)\n",
    "\n",
    "if isinstance(clf, LogisticRegression):\n",
    "    coef_df = pd.DataFrame({\"Variável\": FEATURES, \"Coeficiente\": clf.coef_[0]})\n",
    "    display(coef_df.sort_values(\"Coeficiente\", key=lambda s: abs(s), ascending=False))\n",
    "\n",
    "# SHAP (amostra para agilizar)\n",
    "if \"scaler\" in best_model.named_steps:\n",
    "    X_test_scaled = best_model.named_steps[\"scaler\"].transform(X_test)\n",
    "    explainer = shap.Explainer(clf, X_test_scaled)\n",
    "    shap_values = explainer(X_test_scaled[:120])\n",
    "else:\n",
    "    explainer = shap.Explainer(clf, X_test)\n",
    "    shap_values = explainer(X_test[:120])\n",
    "\n",
    "shap.plots.beeswarm(shap_values, show=False)\n",
    "plt.title(\"SHAP — contribuição das variáveis (amostra)\")\n",
    "plt.show()\n"
   ]
  },
  {
   "cell_type": "markdown",
   "id": "2c21e502",
   "metadata": {},
   "source": [
    "\n",
    "## 8. Export do modelo (Pipeline completo)\n",
    "\n",
    "Exportar o Pipeline completo garante que todo o fluxo de pré-processamento e predição seja executado exatamente como foi treinado. Assim, ao integrarmos o modelo na API, não precisamos nos preocupar em aplicar manualmente transformações como normalização ou codificação — tudo já está encapsulado no mesmo objeto.\n"
   ]
  },
  {
   "cell_type": "code",
   "execution_count": 8,
   "id": "e6789818",
   "metadata": {
    "execution": {
     "iopub.execute_input": "2025-08-09T03:20:09.495940Z",
     "iopub.status.busy": "2025-08-09T03:20:09.495848Z",
     "iopub.status.idle": "2025-08-09T03:20:09.498778Z",
     "shell.execute_reply": "2025-08-09T03:20:09.498540Z"
    }
   },
   "outputs": [
    {
     "name": "stdout",
     "output_type": "stream",
     "text": [
      "Modelo salvo em app/model/modelo_pipeline.pkl\n"
     ]
    }
   ],
   "source": [
    "\n",
    "import os\n",
    "os.makedirs(\"app/model\", exist_ok=True)\n",
    "joblib.dump(best_model, \"app/model/modelo_pipeline.pkl\")\n",
    "print(\"Modelo salvo em app/model/modelo_pipeline.pkl\")\n"
   ]
  },
  {
   "cell_type": "markdown",
   "id": "d0c4fc1d",
   "metadata": {},
   "source": [
    "\n",
    "## 9. Conclusão\n",
    "\n",
    "- Entregamos um classificador funcional e interpretável, pronto para integrar à API.  \n",
    "- Em contexto clinico, seria melhor priorizar **Recall** da classe 1 (evitar falsos negativos), mesmo que isso gere alguns alarmes falsos."
   ]
  }
 ],
 "metadata": {
  "kernelspec": {
   "display_name": ".venv",
   "language": "python",
   "name": "python3"
  },
  "language_info": {
   "codemirror_mode": {
    "name": "ipython",
    "version": 3
   },
   "file_extension": ".py",
   "mimetype": "text/x-python",
   "name": "python",
   "nbconvert_exporter": "python",
   "pygments_lexer": "ipython3",
   "version": "3.12.6"
  }
 },
 "nbformat": 4,
 "nbformat_minor": 5
}
